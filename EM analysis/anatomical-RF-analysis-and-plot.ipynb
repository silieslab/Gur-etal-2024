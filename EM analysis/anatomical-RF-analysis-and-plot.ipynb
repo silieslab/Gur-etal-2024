{
 "cells": [
  {
   "cell_type": "markdown",
   "id": "4531719d",
   "metadata": {},
   "source": [
    "# Anatomical receptive field (RF) analysis and plot"
   ]
  },
  {
   "cell_type": "markdown",
   "id": "9e462eba",
   "metadata": {},
   "source": [
    "The connectomics data in this study comes from the right optic lobe of the full adult female fly brain (FAFB) electron microscopic dataset. Each neuron type was first visually inspected to make sure that all neuronal projections were intact via FlyWire neuroglancer (backbone proofreading). Then, we obtained their neuronal connections via a custom-written code in Python 3.9 using the fafbseg python package. To process the data further, we utilized the pandas (https://pandas.pydata.org/), numpy (https://numpy.org/), scipy (https://scipy.org/), Navis, and matplotlib (https://matplotlib.org/) packages for analysis and data visualization."
   ]
  },
  {
   "cell_type": "code",
   "execution_count": 1,
   "id": "25d3d34b",
   "metadata": {},
   "outputs": [
    {
     "name": "stderr",
     "output_type": "stream",
     "text": [
      "C:\\Users\\sebas\\anaconda3\\envs\\EM\\lib\\site-packages\\blessed\\terminal.py:186: UserWarning: Failed to setupterm(kind='xterm-color'): Could not find terminal xterm-color\n",
      "  warnings.warn(msg)\n"
     ]
    }
   ],
   "source": [
    "# Importing packages\n",
    "import seaborn as sns\n",
    "import matplotlib\n",
    "import matplotlib.pyplot as plt\n",
    "import os\n",
    "import pandas as pd\n",
    "import numpy as np\n",
    "from scipy.spatial import ConvexHull\n",
    "from fafbseg import flywire\n",
    "from helper import replace_outliers_with_nan, combine_xyz, match_all_pre_to_single_post, calculate_spatial_span, add_mean_median_lines\n",
    "import navis"
   ]
  },
  {
   "cell_type": "markdown",
   "id": "984f3123",
   "metadata": {},
   "source": [
    "## Presynaptic partner visualization"
   ]
  },
  {
   "cell_type": "markdown",
   "id": "6a52be92",
   "metadata": {},
   "source": [
    "For a total of 700 Tm9s (medulla columns), we identified presynaptic partners as described in Cornean,Molina-Obando, et al., 2024. In short, we identified approximately 80% of all inputs by tracing and annotating presynaptic segments with at least 3 synapses. We selected consistent partners based on their presence in at least 5% of all analyzed columns. The neurotransmitter identity for these presynaptic partner types was verified through electron microscopy predictions (Eckstein, N. et al., 2023), complemented by an RNA seq dataset (Davis et al., 2020)"
   ]
  },
  {
   "cell_type": "code",
   "execution_count": 2,
   "id": "c7fad78a",
   "metadata": {},
   "outputs": [
    {
     "data": {
      "text/html": [
       "<div>\n",
       "<style scoped>\n",
       "    .dataframe tbody tr th:only-of-type {\n",
       "        vertical-align: middle;\n",
       "    }\n",
       "\n",
       "    .dataframe tbody tr th {\n",
       "        vertical-align: top;\n",
       "    }\n",
       "\n",
       "    .dataframe thead th {\n",
       "        text-align: right;\n",
       "    }\n",
       "</style>\n",
       "<table border=\"1\" class=\"dataframe\">\n",
       "  <thead>\n",
       "    <tr style=\"text-align: right;\">\n",
       "      <th></th>\n",
       "      <th>Tm16</th>\n",
       "      <th>Mi4</th>\n",
       "      <th>CT1</th>\n",
       "      <th>L3</th>\n",
       "      <th>Dm12</th>\n",
       "      <th>C3</th>\n",
       "      <th>Tm20</th>\n",
       "      <th>Tm1</th>\n",
       "      <th>ML1</th>\n",
       "      <th>PS125</th>\n",
       "      <th>...</th>\n",
       "      <th>Dm14</th>\n",
       "      <th>Dm8</th>\n",
       "      <th>L1</th>\n",
       "      <th>TmY25</th>\n",
       "      <th>TmY27</th>\n",
       "      <th>TmY22</th>\n",
       "      <th>Dm2</th>\n",
       "      <th>Dm1</th>\n",
       "      <th>TmY18</th>\n",
       "      <th>MeMe</th>\n",
       "    </tr>\n",
       "    <tr>\n",
       "      <th>instance_post</th>\n",
       "      <th></th>\n",
       "      <th></th>\n",
       "      <th></th>\n",
       "      <th></th>\n",
       "      <th></th>\n",
       "      <th></th>\n",
       "      <th></th>\n",
       "      <th></th>\n",
       "      <th></th>\n",
       "      <th></th>\n",
       "      <th></th>\n",
       "      <th></th>\n",
       "      <th></th>\n",
       "      <th></th>\n",
       "      <th></th>\n",
       "      <th></th>\n",
       "      <th></th>\n",
       "      <th></th>\n",
       "      <th></th>\n",
       "      <th></th>\n",
       "      <th></th>\n",
       "    </tr>\n",
       "  </thead>\n",
       "  <tbody>\n",
       "    <tr>\n",
       "      <th>Tm9::R100:D</th>\n",
       "      <td>10.82</td>\n",
       "      <td>17.12</td>\n",
       "      <td>8.11</td>\n",
       "      <td>22.52</td>\n",
       "      <td>NaN</td>\n",
       "      <td>3.60</td>\n",
       "      <td>3.60</td>\n",
       "      <td>2.70</td>\n",
       "      <td>4.50</td>\n",
       "      <td>NaN</td>\n",
       "      <td>...</td>\n",
       "      <td>NaN</td>\n",
       "      <td>NaN</td>\n",
       "      <td>NaN</td>\n",
       "      <td>NaN</td>\n",
       "      <td>NaN</td>\n",
       "      <td>NaN</td>\n",
       "      <td>NaN</td>\n",
       "      <td>NaN</td>\n",
       "      <td>NaN</td>\n",
       "      <td>NaN</td>\n",
       "    </tr>\n",
       "    <tr>\n",
       "      <th>Tm9::R101:V</th>\n",
       "      <td>NaN</td>\n",
       "      <td>21.70</td>\n",
       "      <td>12.26</td>\n",
       "      <td>26.42</td>\n",
       "      <td>2.83</td>\n",
       "      <td>3.77</td>\n",
       "      <td>2.83</td>\n",
       "      <td>NaN</td>\n",
       "      <td>NaN</td>\n",
       "      <td>NaN</td>\n",
       "      <td>...</td>\n",
       "      <td>NaN</td>\n",
       "      <td>NaN</td>\n",
       "      <td>NaN</td>\n",
       "      <td>NaN</td>\n",
       "      <td>NaN</td>\n",
       "      <td>NaN</td>\n",
       "      <td>NaN</td>\n",
       "      <td>NaN</td>\n",
       "      <td>NaN</td>\n",
       "      <td>NaN</td>\n",
       "    </tr>\n",
       "    <tr>\n",
       "      <th>Tm9::R102:V</th>\n",
       "      <td>5.31</td>\n",
       "      <td>8.85</td>\n",
       "      <td>13.27</td>\n",
       "      <td>30.09</td>\n",
       "      <td>2.65</td>\n",
       "      <td>7.08</td>\n",
       "      <td>6.19</td>\n",
       "      <td>NaN</td>\n",
       "      <td>NaN</td>\n",
       "      <td>NaN</td>\n",
       "      <td>...</td>\n",
       "      <td>NaN</td>\n",
       "      <td>NaN</td>\n",
       "      <td>NaN</td>\n",
       "      <td>NaN</td>\n",
       "      <td>NaN</td>\n",
       "      <td>NaN</td>\n",
       "      <td>NaN</td>\n",
       "      <td>NaN</td>\n",
       "      <td>NaN</td>\n",
       "      <td>NaN</td>\n",
       "    </tr>\n",
       "    <tr>\n",
       "      <th>Tm9::R103:V</th>\n",
       "      <td>NaN</td>\n",
       "      <td>9.09</td>\n",
       "      <td>11.11</td>\n",
       "      <td>29.29</td>\n",
       "      <td>NaN</td>\n",
       "      <td>NaN</td>\n",
       "      <td>4.04</td>\n",
       "      <td>NaN</td>\n",
       "      <td>NaN</td>\n",
       "      <td>4.04</td>\n",
       "      <td>...</td>\n",
       "      <td>NaN</td>\n",
       "      <td>NaN</td>\n",
       "      <td>NaN</td>\n",
       "      <td>NaN</td>\n",
       "      <td>NaN</td>\n",
       "      <td>NaN</td>\n",
       "      <td>NaN</td>\n",
       "      <td>NaN</td>\n",
       "      <td>NaN</td>\n",
       "      <td>NaN</td>\n",
       "    </tr>\n",
       "    <tr>\n",
       "      <th>Tm9::R104:V</th>\n",
       "      <td>6.34</td>\n",
       "      <td>7.75</td>\n",
       "      <td>9.86</td>\n",
       "      <td>23.94</td>\n",
       "      <td>2.11</td>\n",
       "      <td>5.63</td>\n",
       "      <td>NaN</td>\n",
       "      <td>2.11</td>\n",
       "      <td>2.82</td>\n",
       "      <td>NaN</td>\n",
       "      <td>...</td>\n",
       "      <td>NaN</td>\n",
       "      <td>NaN</td>\n",
       "      <td>NaN</td>\n",
       "      <td>NaN</td>\n",
       "      <td>NaN</td>\n",
       "      <td>NaN</td>\n",
       "      <td>NaN</td>\n",
       "      <td>NaN</td>\n",
       "      <td>NaN</td>\n",
       "      <td>NaN</td>\n",
       "    </tr>\n",
       "  </tbody>\n",
       "</table>\n",
       "<p>5 rows × 74 columns</p>\n",
       "</div>"
      ],
      "text/plain": [
       "                Tm16    Mi4    CT1     L3  Dm12    C3  Tm20   Tm1   ML1  \\\n",
       "instance_post                                                             \n",
       "Tm9::R100:D    10.82  17.12   8.11  22.52   NaN  3.60  3.60  2.70  4.50   \n",
       "Tm9::R101:V      NaN  21.70  12.26  26.42  2.83  3.77  2.83   NaN   NaN   \n",
       "Tm9::R102:V     5.31   8.85  13.27  30.09  2.65  7.08  6.19   NaN   NaN   \n",
       "Tm9::R103:V      NaN   9.09  11.11  29.29   NaN   NaN  4.04   NaN   NaN   \n",
       "Tm9::R104:V     6.34   7.75   9.86  23.94  2.11  5.63   NaN  2.11  2.82   \n",
       "\n",
       "               PS125  ...  Dm14  Dm8  L1  TmY25  TmY27  TmY22  Dm2  Dm1  \\\n",
       "instance_post         ...                                                 \n",
       "Tm9::R100:D      NaN  ...   NaN  NaN NaN    NaN    NaN    NaN  NaN  NaN   \n",
       "Tm9::R101:V      NaN  ...   NaN  NaN NaN    NaN    NaN    NaN  NaN  NaN   \n",
       "Tm9::R102:V      NaN  ...   NaN  NaN NaN    NaN    NaN    NaN  NaN  NaN   \n",
       "Tm9::R103:V     4.04  ...   NaN  NaN NaN    NaN    NaN    NaN  NaN  NaN   \n",
       "Tm9::R104:V      NaN  ...   NaN  NaN NaN    NaN    NaN    NaN  NaN  NaN   \n",
       "\n",
       "               TmY18  MeMe  \n",
       "instance_post               \n",
       "Tm9::R100:D      NaN   NaN  \n",
       "Tm9::R101:V      NaN   NaN  \n",
       "Tm9::R102:V      NaN   NaN  \n",
       "Tm9::R103:V      NaN   NaN  \n",
       "Tm9::R104:V      NaN   NaN  \n",
       "\n",
       "[5 rows x 74 columns]"
      ]
     },
     "metadata": {},
     "output_type": "display_data"
    },
    {
     "name": "stdout",
     "output_type": "stream",
     "text": [
      "Total number of columns: 700\n",
      "All presynatic partners: \n",
      " ['Tm16', 'Mi4', 'CT1', 'L3', 'Dm12', 'C3', 'Tm20', 'Tm1', 'ML1', 'PS125', 'L4', 'C2', 'OA-AL2b2', 'TmY17', 'pMP7', 'TmY15', 'Mi13', 'Tm2', 'TmY10', 'Dm10', 'Mi9', 'Y3', 'T2', 'Tm23', 'TmY14', 'Dm3', 'Mi10', 'TmY11', 'Dm4', 'Tm4', 'Mi14', 'T5a', 'Dm15', 'Mi1', 'Dm20', 'Tm1a', 'Mi8', 'T5', 'Dm13', 'L2', 'Dm9', 'LC14b', 'Tm9', 'Tm5', 'Pm1a', 'T5c', 'T2a', 'T5b', 'TmY3', 'Lawf1', 'Tm5b', 'glia', 'R8', 'MeTu_m_l', 'Mt-N.I.', 'TmY21', 'TmY26', 'Me-Lo-2-N.I.', 'TmY24', 'TmY28', 'T3', 'TmY23', 'Mi?', 'glia ', 'Dm14', 'Dm8', 'L1', 'TmY25', 'TmY27', 'TmY22', 'Dm2', 'Dm1', 'TmY18', 'MeMe']\n"
     ]
    }
   ],
   "source": [
    "# Loading data\n",
    "PC_disc = 'D'\n",
    "dataPath = f'{PC_disc}:\\FlyWire-Data\\Processed-data'\n",
    "fig_save_path = os.path.join(dataPath,\"Figures\")\n",
    "save_figures = True\n",
    "\n",
    "current_data = 'Tm9_700_R_20231113.xlsx'\n",
    "\n",
    "filePath =  os.path.join(dataPath,current_data)\n",
    "_sheet_name = 'Relative_counts'\n",
    "\n",
    "data_df = pd.read_excel(filePath, sheet_name=_sheet_name,index_col = 0)\n",
    "display(data_df.head())\n",
    "number_of_columns = len(data_df)\n",
    "pre_partners_ls = data_df.columns.tolist()\n",
    "print(f'Total number of columns: {number_of_columns}')\n",
    "print(f'All presynatic partners: \\n {pre_partners_ls}')"
   ]
  },
  {
   "cell_type": "code",
   "execution_count": 3,
   "id": "be6a4494",
   "metadata": {},
   "outputs": [
    {
     "name": "stdout",
     "output_type": "stream",
     "text": [
      "All presynatic partners: \n",
      " ['Tm16', 'Mi4', 'CT1', 'L3', 'Dm12', 'C3', 'Tm20', 'Tm1', 'ML1', 'PS125', 'L4', 'C2', 'OA-AL2b2', 'TmY17', 'pMP7', 'TmY15', 'Mi13', 'Tm2', 'TmY10']\n"
     ]
    }
   ],
   "source": [
    "# Applying a presence threshold based on NaN values\n",
    "percetatge_prescence = 0.05\n",
    "threshold = percetatge_prescence * len(data_df)\n",
    "\n",
    "# Filter columns based on the threshold\n",
    "filtered_data_df = data_df.dropna(thresh=threshold, axis=1)\n",
    "filtered_pre_partners_ls = filtered_data_df.columns.tolist()\n",
    "print(f'All presynatic partners: \\n {filtered_pre_partners_ls}')"
   ]
  },
  {
   "cell_type": "code",
   "execution_count": 4,
   "id": "27b136aa",
   "metadata": {},
   "outputs": [
    {
     "data": {
      "image/png": "[encoded data removed]",
      "text/plain": [
       "<Figure size 720x720 with 1 Axes>"
      ]
     },
     "metadata": {
      "needs_background": "light"
     },
     "output_type": "display_data"
    }
   ],
   "source": [
    "# Visualization\n",
    "# Adjust subplot spacing and rotate x-axis labels\n",
    "fig, axs = plt.subplots(1, 1, figsize=(10, 10))\n",
    "fig.subplots_adjust(hspace=0.5)\n",
    "\n",
    "\n",
    "major_inputs_data = filtered_data_df\n",
    "#major_inputs_data = filtered_data_df[['L3', 'Mi4', 'CT1', 'Tm16', 'Dm12']]\n",
    "\n",
    "sns.boxplot(data=major_inputs_data[major_inputs_data.mean().sort_values(ascending = False).index], ax=axs)\n",
    "axs.set_ylabel('Relative Counts')\n",
    "axs.set_xticklabels(axs.get_xticklabels(), rotation=90)  # Rotate x-axis labels   \n",
    "\n",
    "fig.suptitle(f'Wide field input partners (n = {number_of_columns}). \\n {_sheet_name}')\n",
    "plt.show()"
   ]
  },
  {
   "cell_type": "markdown",
   "id": "86a1ce24",
   "metadata": {},
   "source": [
    "## Anatomical RF size analysis"
   ]
  },
  {
   "cell_type": "markdown",
   "id": "5dc85973",
   "metadata": {},
   "source": [
    "For each Tm9, we identified each connected presynaptic neuron (e.g., Dm12) and calculated the area and column span. For each connecting pair, we initially determined the volume occupied by the given presynaptic neuron perpendicular to the Tm9 transmedullar axis of projection. To measure the area (um^2) covered by a presynaptic neuron, we extrapolated the volume into a single plane perpendicular to the Tm9 projection axis and measured it using a convex hull measurement. The Dm12 column span was calculated as the distance between the furthest two points of the volume normalized by the distance of one single column span (averaging 11.2 um in diameter).\n",
    " \n",
    "To obtain both the Tm9 projection axis and the plane perpendicular to it for the mentioned procedure, we used the XYZ coordinates for all presynaptic sites of a given Tm9. Since Tm9 is a unicolumnar and transmedullar neuron perpendicular to the medulla surface, the eigenvector of the first PCA component aligns with that axis, and the eigenvectors for the second and third PCA components form the perpendicular plane. All presynaptic neuron XYZ sites were projected to that 2D plane to calculate the covered area for each presynaptic partner."
   ]
  },
  {
   "cell_type": "code",
   "execution_count": 5,
   "id": "a2d3321c",
   "metadata": {},
   "outputs": [],
   "source": [
    "#For analysis purposes\n",
    "min_desired_count = 3 # minimun desired number of contacts between pre and post neurons to be considered\n",
    "single_column_diameter = 11.2 # in um (measured in FlyWire)\n",
    "single_column_area = 100 # in um^2 (Assumed column as circle)\n",
    "\n",
    "#For plotting purposes\n",
    "PC_disc = 'D'\n",
    "dataPath = f'{PC_disc}:\\Connectomics-Data\\FlyWire\\Processed-data'\n",
    "fig_save_path = os.path.join(dataPath,\"Figures\")\n",
    "save_figures = True\n",
    "\n",
    "#General style\n",
    "font = {'family' : 'arial',\n",
    "        'weight' : 'normal',\n",
    "        'size'   : 8}\n",
    "axes = {'labelsize': 12, 'titlesize': 12}\n",
    "ticks = {'labelsize': 10}\n",
    "legend = {'fontsize': 8}\n",
    "plt.rc('font', **font)\n",
    "plt.rc('axes', **axes)\n",
    "plt.rc('xtick', **ticks)\n",
    "plt.rc('ytick', **ticks)\n",
    "\n",
    "#Saving text for pdfs in a proper way\n",
    "matplotlib.rcParams['pdf.fonttype'] = 42\n",
    "matplotlib.rcParams['ps.fonttype'] = 42\n",
    "\n",
    "# For plotting purposes\n",
    "\n",
    "hemisphere = 'R' # 'R', 'L'\n",
    "neuropile_mesh = 'ME_L'\n",
    "mesh_azim = 16# -18 for ME_R, 16 for ME_L\n",
    "mesh_elev = -50 # -148 for ME_R, -50 for ME_L\n",
    "cm = 1/2.54  # centimeters in inches"
   ]
  },
  {
   "cell_type": "code",
   "execution_count": 6,
   "id": "7b14080c",
   "metadata": {
    "scrolled": true
   },
   "outputs": [
    {
     "name": "stdout",
     "output_type": "stream",
     "text": [
      "Consider updating your ids in the original pre-neuron data set:\n"
     ]
    },
    {
     "data": {
      "application/vnd.jupyter.widget-view+json": {
       "model_id": "",
       "version_major": 2,
       "version_minor": 0
      },
      "text/plain": [
       "Updating:   0%|          | 0/41 [00:00<?, ?it/s]"
      ]
     },
     "metadata": {},
     "output_type": "display_data"
    },
    {
     "data": {
      "text/html": [
       "<div>\n",
       "<style scoped>\n",
       "    .dataframe tbody tr th:only-of-type {\n",
       "        vertical-align: middle;\n",
       "    }\n",
       "\n",
       "    .dataframe tbody tr th {\n",
       "        vertical-align: top;\n",
       "    }\n",
       "\n",
       "    .dataframe thead th {\n",
       "        text-align: right;\n",
       "    }\n",
       "</style>\n",
       "<table border=\"1\" class=\"dataframe\">\n",
       "  <thead>\n",
       "    <tr style=\"text-align: right;\">\n",
       "      <th></th>\n",
       "      <th>old_id</th>\n",
       "      <th>new_id</th>\n",
       "      <th>confidence</th>\n",
       "      <th>changed</th>\n",
       "    </tr>\n",
       "  </thead>\n",
       "  <tbody>\n",
       "    <tr>\n",
       "      <th>2</th>\n",
       "      <td>720575940627971709</td>\n",
       "      <td>720575940621626560</td>\n",
       "      <td>1.00</td>\n",
       "      <td>True</td>\n",
       "    </tr>\n",
       "    <tr>\n",
       "      <th>10</th>\n",
       "      <td>720575940631099708</td>\n",
       "      <td>720575940633977645</td>\n",
       "      <td>1.00</td>\n",
       "      <td>True</td>\n",
       "    </tr>\n",
       "    <tr>\n",
       "      <th>12</th>\n",
       "      <td>720575940629488646</td>\n",
       "      <td>720575940615956118</td>\n",
       "      <td>1.00</td>\n",
       "      <td>True</td>\n",
       "    </tr>\n",
       "    <tr>\n",
       "      <th>15</th>\n",
       "      <td>720575940622687220</td>\n",
       "      <td>720575940630032144</td>\n",
       "      <td>1.00</td>\n",
       "      <td>True</td>\n",
       "    </tr>\n",
       "    <tr>\n",
       "      <th>20</th>\n",
       "      <td>720575940606569318</td>\n",
       "      <td>720575940628822088</td>\n",
       "      <td>1.00</td>\n",
       "      <td>True</td>\n",
       "    </tr>\n",
       "    <tr>\n",
       "      <th>22</th>\n",
       "      <td>720575940624885685</td>\n",
       "      <td>720575940632539407</td>\n",
       "      <td>0.99</td>\n",
       "      <td>True</td>\n",
       "    </tr>\n",
       "    <tr>\n",
       "      <th>24</th>\n",
       "      <td>720575940621711598</td>\n",
       "      <td>720575940623599740</td>\n",
       "      <td>1.00</td>\n",
       "      <td>True</td>\n",
       "    </tr>\n",
       "    <tr>\n",
       "      <th>38</th>\n",
       "      <td>720575940606785382</td>\n",
       "      <td>720575940628822088</td>\n",
       "      <td>1.00</td>\n",
       "      <td>True</td>\n",
       "    </tr>\n",
       "  </tbody>\n",
       "</table>\n",
       "</div>"
      ],
      "text/plain": [
       "                old_id              new_id  confidence  changed\n",
       "2   720575940627971709  720575940621626560        1.00     True\n",
       "10  720575940631099708  720575940633977645        1.00     True\n",
       "12  720575940629488646  720575940615956118        1.00     True\n",
       "15  720575940622687220  720575940630032144        1.00     True\n",
       "20  720575940606569318  720575940628822088        1.00     True\n",
       "22  720575940624885685  720575940632539407        0.99     True\n",
       "24  720575940621711598  720575940623599740        1.00     True\n",
       "38  720575940606785382  720575940628822088        1.00     True"
      ]
     },
     "metadata": {},
     "output_type": "display_data"
    },
    {
     "name": "stdout",
     "output_type": "stream",
     "text": [
      "Consider updating your ids in the original post neuron data set:\n"
     ]
    },
    {
     "data": {
      "application/vnd.jupyter.widget-view+json": {
       "model_id": "",
       "version_major": 2,
       "version_minor": 0
      },
      "text/plain": [
       "Updating:   0%|          | 0/682 [00:00<?, ?it/s]"
      ]
     },
     "metadata": {},
     "output_type": "display_data"
    },
    {
     "data": {
      "text/html": [
       "<div>\n",
       "<style scoped>\n",
       "    .dataframe tbody tr th:only-of-type {\n",
       "        vertical-align: middle;\n",
       "    }\n",
       "\n",
       "    .dataframe tbody tr th {\n",
       "        vertical-align: top;\n",
       "    }\n",
       "\n",
       "    .dataframe thead th {\n",
       "        text-align: right;\n",
       "    }\n",
       "</style>\n",
       "<table border=\"1\" class=\"dataframe\">\n",
       "  <thead>\n",
       "    <tr style=\"text-align: right;\">\n",
       "      <th></th>\n",
       "      <th>old_id</th>\n",
       "      <th>new_id</th>\n",
       "      <th>confidence</th>\n",
       "      <th>changed</th>\n",
       "    </tr>\n",
       "  </thead>\n",
       "  <tbody>\n",
       "    <tr>\n",
       "      <th>416</th>\n",
       "      <td>720575940616417653</td>\n",
       "      <td>720575940608436914</td>\n",
       "      <td>0.98</td>\n",
       "      <td>True</td>\n",
       "    </tr>\n",
       "  </tbody>\n",
       "</table>\n",
       "</div>"
      ],
      "text/plain": [
       "                 old_id              new_id  confidence  changed\n",
       "416  720575940616417653  720575940608436914        0.98     True"
      ]
     },
     "metadata": {},
     "output_type": "display_data"
    },
    {
     "name": "stdout",
     "output_type": "stream",
     "text": [
      "Matching all pre to single post\n"
     ]
    },
    {
     "data": {
      "application/vnd.jupyter.widget-view+json": {
       "model_id": "13cda57e662c4c05967d16bfa89983d2",
       "version_major": 2,
       "version_minor": 0
      },
      "text/plain": [
       "Fetching synapses:   0%|          | 0/23 [00:00<?, ?it/s]"
      ]
     },
     "metadata": {},
     "output_type": "display_data"
    }
   ],
   "source": [
    "#############################################################################################\n",
    "########## Matching all presynaptic cell ids connecting to each postsynaptic cell ###########\n",
    "\n",
    "\n",
    "## Loading information  from excel files\n",
    "PC_disc = 'D'\n",
    "dataPath = f'{PC_disc}:\\FlyWire-Data\\database'\n",
    "date = '20230912'\n",
    "pre_neuron_type = 'Dm12'\n",
    "post_neuron_type = 'Tm9'\n",
    "fileName_post = f'{post_neuron_type} proofreadings.xlsx'\n",
    "filePath_post = os.path.join(dataPath,fileName_post)\n",
    "fileName_pre = f'{pre_neuron_type} proofreadings.xlsx'\n",
    "filePath_pre = os.path.join(dataPath,fileName_pre)\n",
    "\n",
    "#Loading file as DataFrame\n",
    "post_df = pd.read_excel(filePath_post)\n",
    "pre_df = pd.read_excel(filePath_pre)\n",
    "\n",
    "## Filtering data\n",
    "# Selecting the R optic lobe IDs\n",
    "R_pre_df = pre_df[pre_df['hemisphere'] == hemisphere].copy()\n",
    "R_post_df = post_df[post_df['hemisphere'] == hemisphere].copy()\n",
    "# Selecting the backbone proofread IDs\n",
    "R_post_df = R_post_df[R_post_df['backbone proofread (Y/N)'] == 'Y'].copy()\n",
    "R_pre_df = R_pre_df[R_pre_df['backbone proofread (Y/N)'] == 'Y'].copy()\n",
    "# Selecting presynaptic cells ids\n",
    "pre_ids = R_pre_df['Updated_seg_id'].tolist()\n",
    "\n",
    "# Quick updates\n",
    "# Updating presynaptic neurons if they are not up-to-date\n",
    "if not np.unique(flywire.is_latest_root(pre_ids))[0]: #if not up-to-date\n",
    "    print('Consider updating your ids in the original pre-neuron data set:')\n",
    "    pre_ids_update_df = flywire.update_ids(pre_ids, stop_layer=2, supervoxels=None, timestamp=None, dataset='production', progress=True)\n",
    "    up_to_date_pre_ids = pre_ids_update_df['new_id'].tolist()\n",
    "    display(pre_ids_update_df[pre_ids_update_df['changed'] == True])\n",
    "else:\n",
    "    up_to_date_pre_ids = [int(x) for x in pre_ids]\n",
    "    print('All pre ids were up to date')\n",
    "    \n",
    "\n",
    "    ## Getting postsynaptic side ID\n",
    "post_ids = R_post_df['Updated_seg_id'].tolist()\n",
    "\n",
    "## Updating postsynaptic neurons if they are not up-to-date\n",
    "if not np.unique(flywire.is_latest_root(post_ids))[0]: # if not up-to-date\n",
    "    print('Consider updating your ids in the original post neuron data set:')\n",
    "    #Updating the IDs via Fafbseg\n",
    "    post_ids_update_df = flywire.update_ids(post_ids, stop_layer=2, supervoxels=None, timestamp=None, dataset='production', progress=True)\n",
    "    up_to_date_post_ids = post_ids_update_df['new_id']\n",
    "    display(post_ids_update_df[post_ids_update_df['confidence'] < 1])\n",
    "else:\n",
    "    up_to_date_post_ids = [int(x) for x in post_ids]\n",
    "    print('All post ids were up to date')\n",
    "    \n",
    "\n",
    "## Doing the pre to post match\n",
    "pre_post_counts, post_inputs = match_all_pre_to_single_post(up_to_date_post_ids, up_to_date_pre_ids, neuropile_mesh) "
   ]
  },
  {
   "cell_type": "code",
   "execution_count": 7,
   "id": "e1cadd6b",
   "metadata": {},
   "outputs": [
    {
     "name": "stdout",
     "output_type": "stream",
     "text": [
      "Pre-post match example after min syn fiter:\n"
     ]
    },
    {
     "data": {
      "text/html": [
       "<div>\n",
       "<style scoped>\n",
       "    .dataframe tbody tr th:only-of-type {\n",
       "        vertical-align: middle;\n",
       "    }\n",
       "\n",
       "    .dataframe tbody tr th {\n",
       "        vertical-align: top;\n",
       "    }\n",
       "\n",
       "    .dataframe thead th {\n",
       "        text-align: right;\n",
       "    }\n",
       "</style>\n",
       "<table border=\"1\" class=\"dataframe\">\n",
       "  <thead>\n",
       "    <tr style=\"text-align: right;\">\n",
       "      <th></th>\n",
       "      <th>post_pt_root_id</th>\n",
       "      <th>pre_pt_root_id</th>\n",
       "      <th>pre_syn_count</th>\n",
       "    </tr>\n",
       "  </thead>\n",
       "  <tbody>\n",
       "    <tr>\n",
       "      <th>0</th>\n",
       "      <td>720575940600084489</td>\n",
       "      <td>720575940633977645</td>\n",
       "      <td>8</td>\n",
       "    </tr>\n",
       "    <tr>\n",
       "      <th>1</th>\n",
       "      <td>720575940602880736</td>\n",
       "      <td>720575940612534641</td>\n",
       "      <td>3</td>\n",
       "    </tr>\n",
       "    <tr>\n",
       "      <th>6</th>\n",
       "      <td>720575940604810208</td>\n",
       "      <td>720575940628360469</td>\n",
       "      <td>3</td>\n",
       "    </tr>\n",
       "    <tr>\n",
       "      <th>7</th>\n",
       "      <td>720575940605034161</td>\n",
       "      <td>720575940628360469</td>\n",
       "      <td>4</td>\n",
       "    </tr>\n",
       "    <tr>\n",
       "      <th>8</th>\n",
       "      <td>720575940605480369</td>\n",
       "      <td>720575940618698781</td>\n",
       "      <td>4</td>\n",
       "    </tr>\n",
       "  </tbody>\n",
       "</table>\n",
       "</div>"
      ],
      "text/plain": [
       "      post_pt_root_id      pre_pt_root_id  pre_syn_count\n",
       "0  720575940600084489  720575940633977645              8\n",
       "1  720575940602880736  720575940612534641              3\n",
       "6  720575940604810208  720575940628360469              3\n",
       "7  720575940605034161  720575940628360469              4\n",
       "8  720575940605480369  720575940618698781              4"
      ]
     },
     "metadata": {},
     "output_type": "display_data"
    },
    {
     "data": {
      "application/vnd.jupyter.widget-view+json": {
       "model_id": "7c8cc7758ec74387a868e2eff4486c3d",
       "version_major": 2,
       "version_minor": 0
      },
      "text/plain": [
       "Fetching synapses:   0%|          | 0/6 [00:00<?, ?it/s]"
      ]
     },
     "metadata": {},
     "output_type": "display_data"
    },
    {
     "name": "stdout",
     "output_type": "stream",
     "text": [
      "Calculating spatial span\n"
     ]
    }
   ],
   "source": [
    "#############################################################################################\n",
    "## Analysis of spatial span of preynaptic inputs to single, unicolumnar, postsynaptic cells ##\n",
    "\n",
    "# Synaptic counts filter\n",
    "pre_post_counts = pre_post_counts[pre_post_counts['pre_syn_count']>=min_desired_count].copy()\n",
    "print('Pre-post match example after min syn fiter:')\n",
    "display(pre_post_counts.head())\n",
    "\n",
    "## Geeting information for all pre cells \n",
    "pre_ls = pre_post_counts['pre_pt_root_id'].tolist() # all postsynaptic neurons\n",
    "\n",
    "# Fetch the inputs from presynaptic cells\n",
    "#TODO change \"pre_inputs\" to \"pre_connectivity\" (which includes inputs and outputs)\n",
    "pre_inputs = flywire.synapses.fetch_synapses(pre_ls, pre=True, post=True, attach=True, \n",
    "                                             min_score=50, clean=True, transmitters=False, \n",
    "                                             neuropils=True, batch_size=30, \n",
    "                                             dataset='production', progress=True,mat= \"live\")\n",
    "\n",
    "# Filtering: keeping only synapses in the medulla\n",
    "pre_inputs = pre_inputs[pre_inputs['neuropil'] == neuropile_mesh].copy()\n",
    "len(pre_inputs)\n",
    "\n",
    "#Combining pre- and postsynpases XYZ values in single columns\n",
    "combine_xyz(pre_inputs) # Function that does the operation\n",
    "\n",
    "## Quantificatino of the spatial span\n",
    "spatial_span_df, individual_spatial_span_df = calculate_spatial_span(up_to_date_post_ids, up_to_date_pre_ids, post_ids_update_df, R_post_df, post_inputs, pre_post_counts, pre_inputs, single_column_area, single_column_diameter)"
   ]
  },
  {
   "cell_type": "markdown",
   "id": "ceb93337",
   "metadata": {},
   "source": [
    "### Plotting a single case (for visualization and methods)"
   ]
  },
  {
   "cell_type": "code",
   "execution_count": 8,
   "id": "46cea583",
   "metadata": {
    "scrolled": true
   },
   "outputs": [
    {
     "data": {
      "text/plain": [
       "Volume                                                6872225261973.319336\n",
       "Area                                                            999.308348\n",
       "Diameter                                                         24.827099\n",
       "Diameter_projected                                               14.567143\n",
       "Hull                     <scipy.spatial.qhull.ConvexHull object at 0x00...\n",
       "Pre_count                                                                1\n",
       "Pre_xyz                  [[792588.0, 314112.0, 143560.0], [791300.0, 31...\n",
       "Pre_center               [799240.2438452521, 313897.7162954279, 149820....\n",
       "Post_xyz                 [[802992.0, 310280.0, 145040.0], [800568.0, 30...\n",
       "pre_projected_points     [[7436.328089199937, 3699.213460221576], [6134...\n",
       "Area_zscore                                                      -0.193374\n",
       "Num_pre_sites                                                          853\n",
       "Num_columns                                                             10\n",
       "Column_span                                                              2\n",
       "Column_span_projected                                                    1\n",
       "Name: 720575940616487099, dtype: object"
      ]
     },
     "metadata": {},
     "output_type": "display_data"
    }
   ],
   "source": [
    "# Choosing a single presynaptic neuron\n",
    "\n",
    "_data = individual_spatial_span_df\n",
    "single_data = _data[(_data['Area'] > 999) & (_data['Area'] < 1000)].copy() \n",
    "single_data = single_data.iloc[0]\n",
    "display(single_data)\n"
   ]
  },
  {
   "cell_type": "code",
   "execution_count": 9,
   "id": "f3895de8",
   "metadata": {},
   "outputs": [
    {
     "name": "stderr",
     "output_type": "stream",
     "text": [
      "meta NOT subset; don't know how to subset; dropped\n"
     ]
    },
    {
     "name": "stdout",
     "output_type": "stream",
     "text": [
      "FIGURE: 2D projection of single cell saved\n"
     ]
    },
    {
     "data": {
      "image/png": "[encoded data removed]",
      "text/plain": [
       "<Figure size 432x288 with 1 Axes>"
      ]
     },
     "metadata": {
      "needs_background": "light"
     },
     "output_type": "display_data"
    }
   ],
   "source": [
    "# Create a 2D scatter plot for PCA-based projection\n",
    "\n",
    "color_rgb = (226 / 255, 26 / 255, 28 / 255)  # Red in RGB \n",
    "\n",
    "\n",
    "projected_points = single_data.loc['pre_projected_points']\n",
    "\n",
    "#Calculate area\n",
    "# Calculate the convex hull of the projected points\n",
    "hull = ConvexHull(projected_points)\n",
    "\n",
    "# Calculate the area of the convex hull\n",
    "area = hull.volume  # Area is calculated as volume in 2D\n",
    "area_um2 = area / 10**6\n",
    "\n",
    "# Create a scatter plot of the PC1 and PC2 components\n",
    "plt.scatter(projected_points[:, 0], projected_points[:, 1], marker='o', label='Projected PC2-PC3', color=color_rgb)\n",
    "\n",
    "plt.plot(projected_points[hull.vertices,0], projected_points[hull.vertices,1], 'k--', lw=2)\n",
    "\n",
    "plt.xlabel('PC1')\n",
    "plt.ylabel('PC2')\n",
    "plt.title(f'Area: {round(area_um2)} um^2')\n",
    "\n",
    "# Access the current Axes instance\n",
    "ax = plt.gca()\n",
    "\n",
    "# Hide the right and top spines\n",
    "ax.spines['right'].set_visible(False)\n",
    "ax.spines['top'].set_visible(False)\n",
    "\n",
    "# Show the plot\n",
    "plt.legend()\n",
    "\n",
    "if save_figures:\n",
    "    plt.savefig(os.path.join(fig_save_path, f'{pre_neuron_type}-2D-projection.pdf'))\n",
    "    print('FIGURE: 2D projection of single cell saved')\n",
    "    plt.show()"
   ]
  },
  {
   "cell_type": "code",
   "execution_count": 10,
   "id": "477d2eb5",
   "metadata": {},
   "outputs": [
    {
     "name": "stdout",
     "output_type": "stream",
     "text": [
      "FIGURE: All neurons spatial span saved\n"
     ]
    },
    {
     "data": {
      "image/png": "[encoded data removed]",
      "text/plain": [
       "<Figure size 432x288 with 1 Axes>"
      ]
     },
     "metadata": {
      "needs_background": "light"
     },
     "output_type": "display_data"
    }
   ],
   "source": [
    "# Create a 3D scatter plot medulla top view\n",
    "\n",
    "row_index = 720575940641730549 # For this particlar cell\n",
    "color_rgb = (226 / 255, 26 / 255, 28 / 255)  # Red in RGB \n",
    "\n",
    "\n",
    "pre_coords = projected_points = single_data.loc['Pre_xyz']\n",
    "# Brief visualization for volumes\n",
    "fig = plt.figure()\n",
    "ax  = fig.add_subplot(projection='3d')\n",
    "ax.plot(pre_coords[:,0], pre_coords[:,1], pre_coords[:,2],'o',markersize=1, color=color_rgb)\n",
    "ax.plot(pre_coords[hull.vertices,0], pre_coords[hull.vertices,1], pre_coords[hull.vertices,2], 'k--', lw=1)\n",
    "\n",
    "OL_R = flywire.get_neuropil_volumes([neuropile_mesh]) \n",
    "navis.plot2d([OL_R], method='3d_complex', ax=ax)\n",
    "\n",
    "ax.azim = mesh_azim\n",
    "ax.elev = mesh_elev\n",
    "\n",
    "if save_figures:    \n",
    "    figure_title = f'\\Mesh-3D-projection-{pre_neuron_type}.pdf'\n",
    "    fig.savefig(fig_save_path + figure_title)\n",
    "    print('FIGURE: All neurons spatial span saved')"
   ]
  },
  {
   "cell_type": "code",
   "execution_count": 11,
   "id": "8153e085",
   "metadata": {
    "scrolled": false
   },
   "outputs": [
    {
     "name": "stdout",
     "output_type": "stream",
     "text": [
      "FIGURE: All neurons spatial span saved\n"
     ]
    },
    {
     "data": {
      "image/png": "[encoded data removed]",
      "text/plain": [
       "<Figure size 432x288 with 1 Axes>"
      ]
     },
     "metadata": {
      "needs_background": "light"
     },
     "output_type": "display_data"
    }
   ],
   "source": [
    "# Adding a single column of reference\n",
    "\n",
    "# Extract coordinates\n",
    "pre_coords = projected_points = single_data.loc['Pre_xyz']\n",
    "\n",
    "# Calculate centroid\n",
    "centroid = np.mean(pre_coords, axis=0)\n",
    "\n",
    "# Area of the assumed column\n",
    "single_column_area = 100  # in um^2\n",
    "\n",
    "# Calculate radius based on area\n",
    "radius = np.sqrt(single_column_area / np.pi)\n",
    "\n",
    "# Brief visualization for volumes\n",
    "fig = plt.figure()\n",
    "ax = fig.add_subplot(projection='3d')\n",
    "\n",
    "# Plot red dots\n",
    "ax.plot(pre_coords[:, 0], pre_coords[:, 1], pre_coords[:, 2], 'o', markersize=1, color=color_rgb)\n",
    "\n",
    "# Plot convex hull\n",
    "ax.plot(pre_coords[hull.vertices, 0], pre_coords[hull.vertices, 1], pre_coords[hull.vertices, 2], 'k--', lw=1)\n",
    "\n",
    "# Plot neuropil volumes\n",
    "OL_R = flywire.get_neuropil_volumes([neuropile_mesh])\n",
    "navis.plot2d([OL_R], method='3d_complex', ax=ax)\n",
    "\n",
    "# Plot green circle at centroid\n",
    "ax.plot(centroid[0], centroid[1], centroid[2], 'o', markersize=  radius, color='green')\n",
    "\n",
    "# Move the green circle to the surface based on azimuth and elevation\n",
    "theta = np.radians(ax.azim)\n",
    "phi = np.radians(ax.elev)\n",
    "\n",
    "x_surface = radius * np.sin(phi) * np.cos(theta) + centroid[0]\n",
    "y_surface = radius * np.sin(phi) * np.sin(theta) + centroid[1]\n",
    "z_surface = radius * np.cos(phi) + centroid[2]\n",
    "\n",
    "ax.plot(x_surface, y_surface, z_surface, 'o', markersize= radius, color='green')\n",
    "\n",
    "\n",
    "ax.azim = mesh_azim\n",
    "ax.elev = mesh_elev\n",
    "\n",
    "if save_figures:    \n",
    "    figure_title = f'\\Mesh-3D-projection-{pre_neuron_type}-and-single column.pdf'\n",
    "    fig.savefig(fig_save_path + figure_title)\n",
    "    print('FIGURE: All neurons spatial span saved')"
   ]
  },
  {
   "cell_type": "code",
   "execution_count": 13,
   "id": "b43bc53a",
   "metadata": {},
   "outputs": [
    {
     "data": {
      "image/png": "[encoded data removed]",
      "text/plain": [
       "<Figure size 1133.86x340.157 with 6 Axes>"
      ]
     },
     "metadata": {
      "needs_background": "light"
     },
     "output_type": "display_data"
    },
    {
     "name": "stderr",
     "output_type": "stream",
     "text": [
      "meta NOT subset; don't know how to subset; dropped\n"
     ]
    },
    {
     "name": "stdout",
     "output_type": "stream",
     "text": [
      "FIGURE: Spatial span saved\n"
     ]
    }
   ],
   "source": [
    "### Plotting histograms in same subplots:\n",
    "_data = individual_spatial_span_df\n",
    "\n",
    "kde_only = True\n",
    "filter_ouliers = False\n",
    "\n",
    "# Create a single figure and axis for all subplots\n",
    "fig, axs = plt.subplots(nrows=1, ncols=5, figsize=(40*cm, 12*cm))\n",
    "fig.tight_layout(pad=3)\n",
    "\n",
    "# Define colors \n",
    "color_rgb = (226 / 255, 26 / 255, 28 / 255)  # Red in RGB \n",
    "       \n",
    "\n",
    "# Outlier filter\n",
    "if filter_ouliers:\n",
    "    _data = replace_outliers_with_nan(_data, multiplier=1.5)\n",
    "\n",
    "# Plot histograms and/or KDE in the respective subplots\n",
    "histograms = [_data['Column_span'], _data['Area'], _data['Num_columns'], _data['Diameter_projected']]\n",
    "subplot_labels = ['Column span', 'Presynaptic cells area (um^2)', 'Columns in area', 'Diameter projected']\n",
    "histograms_bin_width = [None, None, None, None]\n",
    "\n",
    "# Reset the index to avoid reindexing issues\n",
    "for i, data in enumerate(histograms):\n",
    "    data = data.reset_index(drop=True)\n",
    "\n",
    "    if kde_only:\n",
    "        sns.kdeplot(data, ax=axs[i], label=f'{pre_neuron_type}- {len(data)}', color=color_rgb)\n",
    "        axs[i].set_ylabel('Density')\n",
    "    else:\n",
    "        sns.histplot(data, binwidth=histograms_bin_width[i], ax=axs[i], label=f'{pre_neuron_type} - {len(data)}', color=color_rgb, alpha=0.075, \n",
    "                         kde=True, element=\"step\", fill=True, stat=\"count\")\n",
    "        axs[i].set_ylabel('Count')\n",
    "\n",
    "    axs[i].set_xlabel(subplot_labels[i])\n",
    "        \n",
    "    # Add mean and median lines\n",
    "    add_mean_median_lines(data, axs[i], 'red', 'k')\n",
    "        \n",
    "    #Remove spines\n",
    "    axs[i].spines['right'].set_visible(False)\n",
    "    axs[i].spines['top'].set_visible(False)\n",
    "\n",
    "# Last subplot\n",
    "_data_reset_index = _data.reset_index()\n",
    "sns.histplot(\n",
    "_data_reset_index, x='Column_span', y='Num_columns',\n",
    "bins=30, discrete=(True, True), log_scale=(False, False), color=color_rgb,\n",
    "cbar=True, cbar_kws=dict(shrink=.75), ax=axs[4], label=f'{pre_neuron_type} - {len(data)}')\n",
    "axs[4].set_xlabel('Column span')\n",
    "axs[4].set_ylabel('Columns in area')\n",
    "\n",
    "    \n",
    "# Add mean and median lines for x- and y-axis\n",
    "add_mean_median_lines(_data_reset_index['Column_span'], axs[4], 'red', 'k')\n",
    "add_mean_median_lines(_data_reset_index['Num_columns'], axs[4], 'red', 'k', vertical=False)\n",
    "\n",
    "# Add legends to the subplots\n",
    "for i in range(5):\n",
    "    axs[i].legend()\n",
    "\n",
    "# Show the figure\n",
    "plt.show()\n",
    "\n",
    "if save_figures:    \n",
    "    figure_title = f'\\{pre_neuron_type}-neuron-spatial-span-quantification.pdf'\n",
    "    fig.savefig(fig_save_path+figure_title)\n",
    "    print('FIGURE: Spatial span saved')"
   ]
  },
  {
   "cell_type": "markdown",
   "id": "79fe1cb5",
   "metadata": {},
   "source": [
    "### Anatomica RF analysis for many presynaptic partners"
   ]
  },
  {
   "cell_type": "code",
   "execution_count": 14,
   "id": "70dbf889",
   "metadata": {
    "scrolled": false
   },
   "outputs": [
    {
     "name": "stdout",
     "output_type": "stream",
     "text": [
      "Analyzing L3\n",
      "Number of neurons: 645\n",
      "Consider updating your ids in the original pre-neuron data set\n"
     ]
    },
    {
     "data": {
      "application/vnd.jupyter.widget-view+json": {
       "model_id": "",
       "version_major": 2,
       "version_minor": 0
      },
      "text/plain": [
       "Updating:   0%|          | 0/645 [00:00<?, ?it/s]"
      ]
     },
     "metadata": {},
     "output_type": "display_data"
    },
    {
     "name": "stdout",
     "output_type": "stream",
     "text": [
      "Consider updating your ids in the original post neuron data set\n"
     ]
    },
    {
     "data": {
      "application/vnd.jupyter.widget-view+json": {
       "model_id": "",
       "version_major": 2,
       "version_minor": 0
      },
      "text/plain": [
       "Updating:   0%|          | 0/682 [00:00<?, ?it/s]"
      ]
     },
     "metadata": {},
     "output_type": "display_data"
    },
    {
     "name": "stdout",
     "output_type": "stream",
     "text": [
      "Matching all pre to single post\n"
     ]
    },
    {
     "data": {
      "application/vnd.jupyter.widget-view+json": {
       "model_id": "5397d0ef951b491c952120ea08ddb45d",
       "version_major": 2,
       "version_minor": 0
      },
      "text/plain": [
       "Fetching synapses:   0%|          | 0/23 [00:00<?, ?it/s]"
      ]
     },
     "metadata": {},
     "output_type": "display_data"
    },
    {
     "data": {
      "application/vnd.jupyter.widget-view+json": {
       "model_id": "77826f464ae14edab5ad916da378d66e",
       "version_major": 2,
       "version_minor": 0
      },
      "text/plain": [
       "Fetching synapses:   0%|          | 0/18 [00:00<?, ?it/s]"
      ]
     },
     "metadata": {},
     "output_type": "display_data"
    },
    {
     "name": "stdout",
     "output_type": "stream",
     "text": [
      "Calculating spatial span\n",
      "Analyzing Mi4\n",
      "Number of neurons: 723\n",
      "Consider updating your ids in the original pre-neuron data set\n"
     ]
    },
    {
     "data": {
      "application/vnd.jupyter.widget-view+json": {
       "model_id": "",
       "version_major": 2,
       "version_minor": 0
      },
      "text/plain": [
       "Updating:   0%|          | 0/723 [00:00<?, ?it/s]"
      ]
     },
     "metadata": {},
     "output_type": "display_data"
    },
    {
     "name": "stdout",
     "output_type": "stream",
     "text": [
      "Consider updating your ids in the original post neuron data set\n"
     ]
    },
    {
     "data": {
      "application/vnd.jupyter.widget-view+json": {
       "model_id": "",
       "version_major": 2,
       "version_minor": 0
      },
      "text/plain": [
       "Updating:   0%|          | 0/682 [00:00<?, ?it/s]"
      ]
     },
     "metadata": {},
     "output_type": "display_data"
    },
    {
     "name": "stdout",
     "output_type": "stream",
     "text": [
      "Matching all pre to single post\n"
     ]
    },
    {
     "data": {
      "application/vnd.jupyter.widget-view+json": {
       "model_id": "59faaa98cca64218b4facf96f48a4511",
       "version_major": 2,
       "version_minor": 0
      },
      "text/plain": [
       "Fetching synapses:   0%|          | 0/23 [00:00<?, ?it/s]"
      ]
     },
     "metadata": {},
     "output_type": "display_data"
    },
    {
     "data": {
      "application/vnd.jupyter.widget-view+json": {
       "model_id": "31220a9e35644b9fadb574ab1d7e484c",
       "version_major": 2,
       "version_minor": 0
      },
      "text/plain": [
       "Fetching synapses:   0%|          | 0/23 [00:00<?, ?it/s]"
      ]
     },
     "metadata": {},
     "output_type": "display_data"
    },
    {
     "name": "stdout",
     "output_type": "stream",
     "text": [
      "Calculating spatial span\n",
      "Analyzing L4\n",
      "Number of neurons: 73\n",
      "Consider updating your ids in the original pre-neuron data set\n"
     ]
    },
    {
     "data": {
      "application/vnd.jupyter.widget-view+json": {
       "model_id": "",
       "version_major": 2,
       "version_minor": 0
      },
      "text/plain": [
       "Updating:   0%|          | 0/73 [00:00<?, ?it/s]"
      ]
     },
     "metadata": {},
     "output_type": "display_data"
    },
    {
     "name": "stdout",
     "output_type": "stream",
     "text": [
      "Consider updating your ids in the original post neuron data set\n"
     ]
    },
    {
     "data": {
      "application/vnd.jupyter.widget-view+json": {
       "model_id": "",
       "version_major": 2,
       "version_minor": 0
      },
      "text/plain": [
       "Updating:   0%|          | 0/682 [00:00<?, ?it/s]"
      ]
     },
     "metadata": {},
     "output_type": "display_data"
    },
    {
     "name": "stdout",
     "output_type": "stream",
     "text": [
      "Matching all pre to single post\n"
     ]
    },
    {
     "data": {
      "application/vnd.jupyter.widget-view+json": {
       "model_id": "1d5fdead792d4cb3b3af4dc863205d65",
       "version_major": 2,
       "version_minor": 0
      },
      "text/plain": [
       "Fetching synapses:   0%|          | 0/23 [00:00<?, ?it/s]"
      ]
     },
     "metadata": {},
     "output_type": "display_data"
    },
    {
     "name": "stdout",
     "output_type": "stream",
     "text": [
      "Calculating spatial span\n",
      "Analyzing Tm16\n",
      "Number of neurons: 130\n",
      "Consider updating your ids in the original pre-neuron data set\n"
     ]
    },
    {
     "data": {
      "application/vnd.jupyter.widget-view+json": {
       "model_id": "",
       "version_major": 2,
       "version_minor": 0
      },
      "text/plain": [
       "Updating:   0%|          | 0/130 [00:00<?, ?it/s]"
      ]
     },
     "metadata": {},
     "output_type": "display_data"
    },
    {
     "name": "stdout",
     "output_type": "stream",
     "text": [
      "Consider updating your ids in the original post neuron data set\n"
     ]
    },
    {
     "data": {
      "application/vnd.jupyter.widget-view+json": {
       "model_id": "",
       "version_major": 2,
       "version_minor": 0
      },
      "text/plain": [
       "Updating:   0%|          | 0/682 [00:00<?, ?it/s]"
      ]
     },
     "metadata": {},
     "output_type": "display_data"
    },
    {
     "name": "stdout",
     "output_type": "stream",
     "text": [
      "Matching all pre to single post\n"
     ]
    },
    {
     "data": {
      "application/vnd.jupyter.widget-view+json": {
       "model_id": "c9c91476a851496fbd8228384f7cd5b3",
       "version_major": 2,
       "version_minor": 0
      },
      "text/plain": [
       "Fetching synapses:   0%|          | 0/23 [00:00<?, ?it/s]"
      ]
     },
     "metadata": {},
     "output_type": "display_data"
    },
    {
     "data": {
      "application/vnd.jupyter.widget-view+json": {
       "model_id": "895ea53e0214415ea9e6c2c1b1ebb6f9",
       "version_major": 2,
       "version_minor": 0
      },
      "text/plain": [
       "Fetching synapses:   0%|          | 0/20 [00:00<?, ?it/s]"
      ]
     },
     "metadata": {},
     "output_type": "display_data"
    },
    {
     "name": "stdout",
     "output_type": "stream",
     "text": [
      "Calculating spatial span\n",
      "Analyzing Dm12\n",
      "Number of neurons: 41\n",
      "Consider updating your ids in the original pre-neuron data set\n"
     ]
    },
    {
     "data": {
      "application/vnd.jupyter.widget-view+json": {
       "model_id": "",
       "version_major": 2,
       "version_minor": 0
      },
      "text/plain": [
       "Updating:   0%|          | 0/41 [00:00<?, ?it/s]"
      ]
     },
     "metadata": {},
     "output_type": "display_data"
    },
    {
     "name": "stdout",
     "output_type": "stream",
     "text": [
      "Consider updating your ids in the original post neuron data set\n"
     ]
    },
    {
     "data": {
      "application/vnd.jupyter.widget-view+json": {
       "model_id": "",
       "version_major": 2,
       "version_minor": 0
      },
      "text/plain": [
       "Updating:   0%|          | 0/682 [00:00<?, ?it/s]"
      ]
     },
     "metadata": {},
     "output_type": "display_data"
    },
    {
     "name": "stdout",
     "output_type": "stream",
     "text": [
      "Matching all pre to single post\n"
     ]
    },
    {
     "data": {
      "application/vnd.jupyter.widget-view+json": {
       "model_id": "0ae5b39d5766420080d5d1cefa491948",
       "version_major": 2,
       "version_minor": 0
      },
      "text/plain": [
       "Fetching synapses:   0%|          | 0/23 [00:00<?, ?it/s]"
      ]
     },
     "metadata": {},
     "output_type": "display_data"
    },
    {
     "data": {
      "application/vnd.jupyter.widget-view+json": {
       "model_id": "d36595597d7f4d348cd08374e238f9ab",
       "version_major": 2,
       "version_minor": 0
      },
      "text/plain": [
       "Fetching synapses:   0%|          | 0/6 [00:00<?, ?it/s]"
      ]
     },
     "metadata": {},
     "output_type": "display_data"
    },
    {
     "name": "stdout",
     "output_type": "stream",
     "text": [
      "Calculating spatial span\n",
      "Analyzing C2\n",
      "Number of neurons: 135\n",
      "Consider updating your ids in the original pre-neuron data set\n"
     ]
    },
    {
     "data": {
      "application/vnd.jupyter.widget-view+json": {
       "model_id": "",
       "version_major": 2,
       "version_minor": 0
      },
      "text/plain": [
       "Updating:   0%|          | 0/135 [00:00<?, ?it/s]"
      ]
     },
     "metadata": {},
     "output_type": "display_data"
    },
    {
     "name": "stdout",
     "output_type": "stream",
     "text": [
      "Consider updating your ids in the original post neuron data set\n"
     ]
    },
    {
     "data": {
      "application/vnd.jupyter.widget-view+json": {
       "model_id": "",
       "version_major": 2,
       "version_minor": 0
      },
      "text/plain": [
       "Updating:   0%|          | 0/682 [00:00<?, ?it/s]"
      ]
     },
     "metadata": {},
     "output_type": "display_data"
    },
    {
     "name": "stdout",
     "output_type": "stream",
     "text": [
      "Matching all pre to single post\n"
     ]
    },
    {
     "data": {
      "application/vnd.jupyter.widget-view+json": {
       "model_id": "70d70f91f4c14f47b1a73a8e2c07d606",
       "version_major": 2,
       "version_minor": 0
      },
      "text/plain": [
       "Fetching synapses:   0%|          | 0/23 [00:00<?, ?it/s]"
      ]
     },
     "metadata": {},
     "output_type": "display_data"
    },
    {
     "name": "stdout",
     "output_type": "stream",
     "text": [
      "Calculating spatial span\n",
      "Analyzing C3\n",
      "Number of neurons: 678\n",
      "Consider updating your ids in the original pre-neuron data set\n"
     ]
    },
    {
     "data": {
      "application/vnd.jupyter.widget-view+json": {
       "model_id": "",
       "version_major": 2,
       "version_minor": 0
      },
      "text/plain": [
       "Updating:   0%|          | 0/678 [00:00<?, ?it/s]"
      ]
     },
     "metadata": {},
     "output_type": "display_data"
    },
    {
     "name": "stdout",
     "output_type": "stream",
     "text": [
      "Consider updating your ids in the original post neuron data set\n"
     ]
    },
    {
     "data": {
      "application/vnd.jupyter.widget-view+json": {
       "model_id": "",
       "version_major": 2,
       "version_minor": 0
      },
      "text/plain": [
       "Updating:   0%|          | 0/682 [00:00<?, ?it/s]"
      ]
     },
     "metadata": {},
     "output_type": "display_data"
    },
    {
     "name": "stdout",
     "output_type": "stream",
     "text": [
      "Matching all pre to single post\n"
     ]
    },
    {
     "data": {
      "application/vnd.jupyter.widget-view+json": {
       "model_id": "a157c87e79944704b99c8c872cd18613",
       "version_major": 2,
       "version_minor": 0
      },
      "text/plain": [
       "Fetching synapses:   0%|          | 0/23 [00:00<?, ?it/s]"
      ]
     },
     "metadata": {},
     "output_type": "display_data"
    },
    {
     "data": {
      "application/vnd.jupyter.widget-view+json": {
       "model_id": "328ad7519407440ba90834a524db6876",
       "version_major": 2,
       "version_minor": 0
      },
      "text/plain": [
       "Fetching synapses:   0%|          | 0/9 [00:00<?, ?it/s]"
      ]
     },
     "metadata": {},
     "output_type": "display_data"
    },
    {
     "name": "stdout",
     "output_type": "stream",
     "text": [
      "Calculating spatial span\n",
      "Analyzing Mi13\n",
      "Number of neurons: 365\n",
      "Consider updating your ids in the original pre-neuron data set\n"
     ]
    },
    {
     "data": {
      "application/vnd.jupyter.widget-view+json": {
       "model_id": "",
       "version_major": 2,
       "version_minor": 0
      },
      "text/plain": [
       "Updating:   0%|          | 0/365 [00:00<?, ?it/s]"
      ]
     },
     "metadata": {},
     "output_type": "display_data"
    },
    {
     "name": "stdout",
     "output_type": "stream",
     "text": [
      "Consider updating your ids in the original post neuron data set\n"
     ]
    },
    {
     "data": {
      "application/vnd.jupyter.widget-view+json": {
       "model_id": "",
       "version_major": 2,
       "version_minor": 0
      },
      "text/plain": [
       "Updating:   0%|          | 0/682 [00:00<?, ?it/s]"
      ]
     },
     "metadata": {},
     "output_type": "display_data"
    },
    {
     "name": "stdout",
     "output_type": "stream",
     "text": [
      "Matching all pre to single post\n"
     ]
    },
    {
     "data": {
      "application/vnd.jupyter.widget-view+json": {
       "model_id": "9c03953da3ad4ffab707b0d6ba36d2dc",
       "version_major": 2,
       "version_minor": 0
      },
      "text/plain": [
       "Fetching synapses:   0%|          | 0/23 [00:00<?, ?it/s]"
      ]
     },
     "metadata": {},
     "output_type": "display_data"
    },
    {
     "data": {
      "application/vnd.jupyter.widget-view+json": {
       "model_id": "226c6bde063746f4a9cfe4eb38dac9c7",
       "version_major": 2,
       "version_minor": 0
      },
      "text/plain": [
       "Fetching synapses:   0%|          | 0/4 [00:00<?, ?it/s]"
      ]
     },
     "metadata": {},
     "output_type": "display_data"
    },
    {
     "name": "stdout",
     "output_type": "stream",
     "text": [
      "Calculating spatial span\n",
      "Analyzing Tm1\n",
      "Number of neurons: 742\n",
      "Consider updating your ids in the original pre-neuron data set\n"
     ]
    },
    {
     "data": {
      "application/vnd.jupyter.widget-view+json": {
       "model_id": "",
       "version_major": 2,
       "version_minor": 0
      },
      "text/plain": [
       "Updating:   0%|          | 0/742 [00:00<?, ?it/s]"
      ]
     },
     "metadata": {},
     "output_type": "display_data"
    },
    {
     "name": "stdout",
     "output_type": "stream",
     "text": [
      "Consider updating your ids in the original post neuron data set\n"
     ]
    },
    {
     "data": {
      "application/vnd.jupyter.widget-view+json": {
       "model_id": "",
       "version_major": 2,
       "version_minor": 0
      },
      "text/plain": [
       "Updating:   0%|          | 0/682 [00:00<?, ?it/s]"
      ]
     },
     "metadata": {},
     "output_type": "display_data"
    },
    {
     "name": "stdout",
     "output_type": "stream",
     "text": [
      "Matching all pre to single post\n"
     ]
    },
    {
     "data": {
      "application/vnd.jupyter.widget-view+json": {
       "model_id": "70a4483067b94374b59a3bb46b288dfe",
       "version_major": 2,
       "version_minor": 0
      },
      "text/plain": [
       "Fetching synapses:   0%|          | 0/23 [00:00<?, ?it/s]"
      ]
     },
     "metadata": {},
     "output_type": "display_data"
    },
    {
     "data": {
      "application/vnd.jupyter.widget-view+json": {
       "model_id": "e3c64139d5ab4862861e8f776dbf3eb3",
       "version_major": 2,
       "version_minor": 0
      },
      "text/plain": [
       "Fetching synapses:   0%|          | 0/5 [00:00<?, ?it/s]"
      ]
     },
     "metadata": {},
     "output_type": "display_data"
    },
    {
     "name": "stdout",
     "output_type": "stream",
     "text": [
      "Calculating spatial span\n",
      "Analyzing Tm20\n",
      "Number of neurons: 636\n",
      "Consider updating your ids in the original pre-neuron data set\n"
     ]
    },
    {
     "data": {
      "application/vnd.jupyter.widget-view+json": {
       "model_id": "",
       "version_major": 2,
       "version_minor": 0
      },
      "text/plain": [
       "Updating:   0%|          | 0/636 [00:00<?, ?it/s]"
      ]
     },
     "metadata": {},
     "output_type": "display_data"
    },
    {
     "name": "stdout",
     "output_type": "stream",
     "text": [
      "Consider updating your ids in the original post neuron data set\n"
     ]
    },
    {
     "data": {
      "application/vnd.jupyter.widget-view+json": {
       "model_id": "",
       "version_major": 2,
       "version_minor": 0
      },
      "text/plain": [
       "Updating:   0%|          | 0/682 [00:00<?, ?it/s]"
      ]
     },
     "metadata": {},
     "output_type": "display_data"
    },
    {
     "name": "stdout",
     "output_type": "stream",
     "text": [
      "Matching all pre to single post\n"
     ]
    },
    {
     "data": {
      "application/vnd.jupyter.widget-view+json": {
       "model_id": "1ffc4cba1e2f490fa70154423a6078cb",
       "version_major": 2,
       "version_minor": 0
      },
      "text/plain": [
       "Fetching synapses:   0%|          | 0/23 [00:00<?, ?it/s]"
      ]
     },
     "metadata": {},
     "output_type": "display_data"
    },
    {
     "data": {
      "application/vnd.jupyter.widget-view+json": {
       "model_id": "2083f5893ca448ee8c7c0909a2f26823",
       "version_major": 2,
       "version_minor": 0
      },
      "text/plain": [
       "Fetching synapses:   0%|          | 0/10 [00:00<?, ?it/s]"
      ]
     },
     "metadata": {},
     "output_type": "display_data"
    },
    {
     "name": "stdout",
     "output_type": "stream",
     "text": [
      "Calculating spatial span\n",
      "Analyzing TmY10\n",
      "Number of neurons: 146\n",
      "Consider updating your ids in the original pre-neuron data set\n"
     ]
    },
    {
     "data": {
      "application/vnd.jupyter.widget-view+json": {
       "model_id": "",
       "version_major": 2,
       "version_minor": 0
      },
      "text/plain": [
       "Updating:   0%|          | 0/146 [00:00<?, ?it/s]"
      ]
     },
     "metadata": {},
     "output_type": "display_data"
    },
    {
     "name": "stdout",
     "output_type": "stream",
     "text": [
      "Consider updating your ids in the original post neuron data set\n"
     ]
    },
    {
     "data": {
      "application/vnd.jupyter.widget-view+json": {
       "model_id": "",
       "version_major": 2,
       "version_minor": 0
      },
      "text/plain": [
       "Updating:   0%|          | 0/682 [00:00<?, ?it/s]"
      ]
     },
     "metadata": {},
     "output_type": "display_data"
    },
    {
     "name": "stdout",
     "output_type": "stream",
     "text": [
      "Matching all pre to single post\n"
     ]
    },
    {
     "data": {
      "application/vnd.jupyter.widget-view+json": {
       "model_id": "ba139e8489474c82babca534563dcfad",
       "version_major": 2,
       "version_minor": 0
      },
      "text/plain": [
       "Fetching synapses:   0%|          | 0/23 [00:00<?, ?it/s]"
      ]
     },
     "metadata": {},
     "output_type": "display_data"
    },
    {
     "data": {
      "application/vnd.jupyter.widget-view+json": {
       "model_id": "f5204f2df0fd44029734ad21ea458810",
       "version_major": 2,
       "version_minor": 0
      },
      "text/plain": [
       "Fetching synapses:   0%|          | 0/2 [00:00<?, ?it/s]"
      ]
     },
     "metadata": {},
     "output_type": "display_data"
    },
    {
     "name": "stdout",
     "output_type": "stream",
     "text": [
      "Calculating spatial span\n",
      "Analyzing TmY15\n",
      "Number of neurons: 111\n",
      "Consider updating your ids in the original pre-neuron data set\n"
     ]
    },
    {
     "data": {
      "application/vnd.jupyter.widget-view+json": {
       "model_id": "",
       "version_major": 2,
       "version_minor": 0
      },
      "text/plain": [
       "Updating:   0%|          | 0/111 [00:00<?, ?it/s]"
      ]
     },
     "metadata": {},
     "output_type": "display_data"
    },
    {
     "name": "stdout",
     "output_type": "stream",
     "text": [
      "Consider updating your ids in the original post neuron data set\n"
     ]
    },
    {
     "data": {
      "application/vnd.jupyter.widget-view+json": {
       "model_id": "",
       "version_major": 2,
       "version_minor": 0
      },
      "text/plain": [
       "Updating:   0%|          | 0/682 [00:00<?, ?it/s]"
      ]
     },
     "metadata": {},
     "output_type": "display_data"
    },
    {
     "name": "stdout",
     "output_type": "stream",
     "text": [
      "Matching all pre to single post\n"
     ]
    },
    {
     "data": {
      "application/vnd.jupyter.widget-view+json": {
       "model_id": "fee64cfa9e884f4bbca1414cdca7a815",
       "version_major": 2,
       "version_minor": 0
      },
      "text/plain": [
       "Fetching synapses:   0%|          | 0/23 [00:00<?, ?it/s]"
      ]
     },
     "metadata": {},
     "output_type": "display_data"
    },
    {
     "name": "stdout",
     "output_type": "stream",
     "text": [
      "Calculating spatial span\n",
      "Analyzing TmY17\n",
      "Number of neurons: 154\n",
      "Consider updating your ids in the original pre-neuron data set\n"
     ]
    },
    {
     "data": {
      "application/vnd.jupyter.widget-view+json": {
       "model_id": "",
       "version_major": 2,
       "version_minor": 0
      },
      "text/plain": [
       "Updating:   0%|          | 0/154 [00:00<?, ?it/s]"
      ]
     },
     "metadata": {},
     "output_type": "display_data"
    },
    {
     "name": "stdout",
     "output_type": "stream",
     "text": [
      "Consider updating your ids in the original post neuron data set\n"
     ]
    },
    {
     "data": {
      "application/vnd.jupyter.widget-view+json": {
       "model_id": "",
       "version_major": 2,
       "version_minor": 0
      },
      "text/plain": [
       "Updating:   0%|          | 0/682 [00:00<?, ?it/s]"
      ]
     },
     "metadata": {},
     "output_type": "display_data"
    },
    {
     "name": "stdout",
     "output_type": "stream",
     "text": [
      "Matching all pre to single post\n"
     ]
    },
    {
     "data": {
      "application/vnd.jupyter.widget-view+json": {
       "model_id": "e7df7da34a9f4f31b201a957194fddfa",
       "version_major": 2,
       "version_minor": 0
      },
      "text/plain": [
       "Fetching synapses:   0%|          | 0/23 [00:00<?, ?it/s]"
      ]
     },
     "metadata": {},
     "output_type": "display_data"
    },
    {
     "data": {
      "application/vnd.jupyter.widget-view+json": {
       "model_id": "12b66a8c6c1a45b0a492b150ac104300",
       "version_major": 2,
       "version_minor": 0
      },
      "text/plain": [
       "Fetching synapses:   0%|          | 0/4 [00:00<?, ?it/s]"
      ]
     },
     "metadata": {},
     "output_type": "display_data"
    },
    {
     "name": "stdout",
     "output_type": "stream",
     "text": [
      "Calculating spatial span\n",
      "Analysis done.\n"
     ]
    }
   ],
   "source": [
    "########## Looping across all presynaptic cell types\n",
    "\n",
    "\n",
    "#############################################################################################\n",
    "########## Matching all presynaptic cell ids connecting to each postsynaptic cell ###########\n",
    "\n",
    "pre_neuron_type_ls = ['L3','Mi4','L4','Tm16','Dm12','C2','C3','Mi13','Tm1','Tm20','TmY10','TmY15','TmY17'] \n",
    "\n",
    "spatial_span_df_dict = {}\n",
    "individual_spatial_span_df_dict = {}\n",
    "\n",
    "for pre_neuron_type in pre_neuron_type_ls:\n",
    "    print(f'Analyzing {pre_neuron_type}')\n",
    "\n",
    "    ## Loading information  from excel files\n",
    "    PC_disc = 'D'\n",
    "    dataPath = f'{PC_disc}:\\Connectomics-Data\\FlyWire\\Excels\\drive-data-sets\\database'\n",
    "    date = '20230912'\n",
    "    post_neuron_type = 'Tm9'\n",
    "    fileName_post = f'{post_neuron_type} proofreadings.xlsx'\n",
    "    filePath_post = os.path.join(dataPath,fileName_post)\n",
    "    fileName_pre = f'{pre_neuron_type} proofreadings.xlsx'\n",
    "    filePath_pre = os.path.join(dataPath,fileName_pre)\n",
    "\n",
    "    #Loading file as DataFrame\n",
    "    post_df = pd.read_excel(filePath_post)\n",
    "    pre_df = pd.read_excel(filePath_pre)\n",
    "\n",
    "    ## Filtering data\n",
    "    # Selecting the R optic lobe IDs\n",
    "    R_pre_df = pre_df[pre_df['hemisphere'] == hemisphere].copy()\n",
    "    R_post_df = post_df[post_df['hemisphere'] == hemisphere].copy()\n",
    "    # Selecting the backbone proofread IDs\n",
    "    R_post_df = R_post_df[R_post_df['backbone proofread (Y/N)'] == 'Y'].copy()\n",
    "    R_pre_df = R_pre_df[R_pre_df['backbone proofread (Y/N)'] == 'Y'].copy()\n",
    "    # Selecting presynaptic cells ids\n",
    "    pre_ids = R_pre_df['Updated_seg_id'].tolist()\n",
    "    print(f'Number of neurons: {len( pre_ids)}')\n",
    "\n",
    "    # Quick updates\n",
    "    # Updating presynaptic neurons if they are not up-to-date\n",
    "    if not np.unique(flywire.is_latest_root(pre_ids))[0]: #if not up-to-date\n",
    "        print('Consider updating your ids in the original pre-neuron data set')\n",
    "        pre_ids_update_df = flywire.update_ids(pre_ids, stop_layer=2, supervoxels=None, timestamp=None, dataset='production', progress=True)\n",
    "        up_to_date_pre_ids = pre_ids_update_df['new_id'].tolist()\n",
    "    else:\n",
    "        up_to_date_pre_ids = [int(x) for x in pre_ids]\n",
    "        print('All pre ids were up to date')\n",
    "\n",
    "\n",
    "        ## Getting postsynaptic side ID\n",
    "    post_ids = R_post_df['Updated_seg_id'].tolist()\n",
    "\n",
    "    ## Updating postsynaptic neurons if they are not up-to-date\n",
    "    if not np.unique(flywire.is_latest_root(post_ids))[0]: # if not up-to-date\n",
    "        print('Consider updating your ids in the original post neuron data set')\n",
    "        #Updating the IDs via Fafbseg\n",
    "        post_ids_update_df = flywire.update_ids(post_ids, stop_layer=2, supervoxels=None, timestamp=None, dataset='production', progress=True)\n",
    "        up_to_date_post_ids = post_ids_update_df['new_id']\n",
    "    else:\n",
    "        up_to_date_post_ids = [int(x) for x in post_ids]\n",
    "        print('All post ids were up to date')\n",
    "\n",
    "\n",
    "    ## Doing the pre to post match\n",
    "    pre_post_counts, post_inputs = match_all_pre_to_single_post(up_to_date_post_ids, up_to_date_pre_ids, neuropile_mesh) \n",
    "\n",
    "    #############################################################################################\n",
    "    ## Analysis f spatial span of preynaptic inputs to single, unicolumnar, postsynaptic cells ##\n",
    "\n",
    "    # Synaptic counts filter\n",
    "    pre_post_counts = pre_post_counts[pre_post_counts['pre_syn_count']>=min_desired_count].copy()\n",
    "\n",
    "    ## Geeting information for all pre cells \n",
    "    pre_ls = pre_post_counts['pre_pt_root_id'].tolist() # all postsynaptic neurons\n",
    "\n",
    "    # Fetch the inputs from presynaptic cells\n",
    "    #TODO change \"pre_inputs\" to \"pre_connectivity\" (which includes inputs and outputs)\n",
    "    pre_inputs = flywire.synapses.fetch_synapses(pre_ls, pre=True, post=True, attach=True, \n",
    "                                                 min_score=50, clean=True, transmitters=False, \n",
    "                                                 neuropils=True, batch_size=30, \n",
    "                                                 dataset='production', progress=True,mat= \"live\")\n",
    "\n",
    "    # Filtering: keeping only synapses in the medulla\n",
    "    pre_inputs = pre_inputs[pre_inputs['neuropil'] == neuropile_mesh].copy()\n",
    "    len(pre_inputs)\n",
    "\n",
    "    #Combining pre- and postsynpases XYZ values in single columns\n",
    "    combine_xyz(pre_inputs) # Function that does the operation\n",
    "\n",
    "    ## Quantificatino of the spatial span\n",
    "    spatial_span_df, individual_spatial_span_df = calculate_spatial_span(up_to_date_post_ids, up_to_date_pre_ids, post_ids_update_df, R_post_df, post_inputs, pre_post_counts, pre_inputs, single_column_area, single_column_diameter)\n",
    "    spatial_span_df_dict[pre_neuron_type] = spatial_span_df\n",
    "    individual_spatial_span_df_dict[pre_neuron_type] = individual_spatial_span_df\n",
    "    \n",
    "print('Analysis done.')\n",
    "    "
   ]
  },
  {
   "cell_type": "code",
   "execution_count": 15,
   "id": "0c064de1",
   "metadata": {},
   "outputs": [],
   "source": [
    "# Combining all dataframes and discarding outliers\n",
    "\n",
    "# Initialize an empty list to store DataFrames\n",
    "dfs_list = []\n",
    "\n",
    "# Iterate through the dictionary\n",
    "for neuron, df in individual_spatial_span_df_dict.items():\n",
    "    #Discard outliers\n",
    "    df = replace_outliers_with_nan(df, multiplier=1.5)\n",
    "    # Add 'neuron' column to the DataFrame\n",
    "    df['neuron'] = neuron\n",
    "    if len(df) < 10:\n",
    "        continue\n",
    "    # Append the DataFrame to the list\n",
    "    dfs_list.append(df)\n",
    "\n",
    "# Concatenate DataFrames in the list\n",
    "combined_individual_spatial_span_df = pd.concat(dfs_list, ignore_index=True)\n"
   ]
  },
  {
   "cell_type": "code",
   "execution_count": 16,
   "id": "afaae20b",
   "metadata": {},
   "outputs": [
    {
     "data": {
      "text/plain": [
       "array(['L3', 'Mi4', 'L4', 'Tm16', 'Dm12', 'C2', 'C3', 'Mi13', 'Tm1',\n",
       "       'Tm20', 'TmY10', 'TmY17'], dtype=object)"
      ]
     },
     "execution_count": 16,
     "metadata": {},
     "output_type": "execute_result"
    }
   ],
   "source": [
    "combined_individual_spatial_span_df[\"neuron\"].unique()"
   ]
  },
  {
   "cell_type": "code",
   "execution_count": 17,
   "id": "5c9108fb",
   "metadata": {},
   "outputs": [
    {
     "data": {
      "image/png": "[encoded data removed]",
      "text/plain": [
       "<Figure size 720x360 with 2 Axes>"
      ]
     },
     "metadata": {
      "needs_background": "light"
     },
     "output_type": "display_data"
    },
    {
     "name": "stderr",
     "output_type": "stream",
     "text": [
      "meta NOT subset; don't know how to subset; dropped\n"
     ]
    },
    {
     "name": "stdout",
     "output_type": "stream",
     "text": [
      "FIGURE: All neurons spatial span saved\n"
     ]
    }
   ],
   "source": [
    "# Define the neuron categories and their corresponding colors\n",
    "glutamatergic_neurons = ['Mi13', 'Dm12']  # Choose blue\n",
    "cholinergic_neurons = ['Tm1', 'Tm20', 'L3', 'L4', 'Mi4', 'TmY17', 'TmY10', 'Tm16']  # Choose green\n",
    "gabaergic_neurons = ['C2', 'C3']  # Choose red\n",
    "\n",
    "# Create the neuron_colors and legend_colors dictionaries\n",
    "neuron_colors = {}\n",
    "neuron_labels = {}\n",
    "legend_colors = {}\n",
    "\n",
    "# Assign colors to glutamatergic neurons and add labels\n",
    "for neuron in glutamatergic_neurons:\n",
    "    neuron_colors[neuron] = 'red'\n",
    "    neuron_labels[neuron] = 'glutamatergic'\n",
    "    legend_colors['glutamatergic'] = 'red'\n",
    "\n",
    "# Assign colors to cholinergic neurons and add labels\n",
    "for neuron in cholinergic_neurons:\n",
    "    neuron_colors[neuron] = 'yellow'\n",
    "    neuron_labels[neuron] = 'cholinergic'\n",
    "    legend_colors['cholinergic'] = 'yellow'\n",
    "\n",
    "# Assign colors to gabaergic neurons and add labels\n",
    "for neuron in gabaergic_neurons:\n",
    "    neuron_colors[neuron] = 'blue'\n",
    "    neuron_labels[neuron] = 'gabaergic'\n",
    "    legend_colors['gabaergic'] = 'blue'\n",
    "\n",
    "# Select the desired columns and assign them to a new DataFrame\n",
    "selected_columns = ['Area', 'neuron']\n",
    "selected_df = combined_individual_spatial_span_df[selected_columns]\n",
    "\n",
    "# Calculate the mean for each neuron category\n",
    "mean_per_neuron = selected_df.groupby('neuron')['Area'].mean()\n",
    "\n",
    "# Sort the neuron categories based on mean values in ascending order\n",
    "sorted_neurons = mean_per_neuron.sort_values(ascending=True).index\n",
    "\n",
    "# Create a list of colors and labels based on the neuron category of each data point\n",
    "_palette = [neuron_colors[neuron] for neuron in sorted_neurons]\n",
    "labels = [neuron_labels[neuron] for neuron in sorted_neurons]\n",
    "\n",
    "# Create a figure with two subplots\n",
    "fig, axs = plt.subplots(1, 2, figsize=(10, 5))\n",
    "\n",
    "# Plot the box plot with sorted order and custom palette in the first subplot\n",
    "boxplot = sns.boxplot(ax=axs[0], x='neuron', y='Area', data=selected_df, palette=_palette, \n",
    "                      order=sorted_neurons,linewidth=0.5,showfliers=False)\n",
    "\n",
    "# Remove left and top spines\n",
    "boxplot.spines['right'].set_visible(False)\n",
    "boxplot.spines['top'].set_visible(False)\n",
    "\n",
    "# Rotate x-axis tick labels by 90 degrees\n",
    "boxplot.set_xticklabels(boxplot.get_xticklabels(), rotation=90)\n",
    "\n",
    "# Add labels and title to the first subplot\n",
    "axs[0].set_xlabel('Neuron')\n",
    "axs[0].set_ylabel('Area')\n",
    "axs[0].set_title('Box Plot of Area by Neuron (Sorted by Mean in Ascending Order)')\n",
    "\n",
    "# Add legend with labels and matching colors to the first subplot\n",
    "legend_labels = list(set(labels))  # Get unique labels\n",
    "legend_handles = [plt.Line2D([0], [0], marker='o', color=legend_colors[label], markerfacecolor=legend_colors[label], label=label) for label in legend_labels]\n",
    "axs[0].legend(handles=legend_handles, labels=legend_labels, title='Neuron Type')\n",
    "\n",
    "# Add the second subplot (you can customize this subplot as needed)\n",
    "axs[1].text(0.5, 0.5, 'Remember to keep thinking out of the box!')\n",
    "\n",
    "# Adjust layout\n",
    "plt.tight_layout()\n",
    "\n",
    "# Show the plot\n",
    "plt.show()\n",
    "\n",
    "if save_figures:    \n",
    "    figure_title = '\\All-neurons-spatial-span-NT.pdf'\n",
    "    fig.savefig(fig_save_path + figure_title)\n",
    "    print('FIGURE: All neurons spatial span saved')"
   ]
  }
 ],
 "metadata": {
  "kernelspec": {
   "display_name": "Python 3 (ipykernel)",
   "language": "python",
   "name": "python3"
  },
  "language_info": {
   "codemirror_mode": {
    "name": "ipython",
    "version": 3
   },
   "file_extension": ".py",
   "mimetype": "text/x-python",
   "name": "python",
   "nbconvert_exporter": "python",
   "pygments_lexer": "ipython3",
   "version": "3.7.4"
  }
 },
 "nbformat": 4,
 "nbformat_minor": 5
}
